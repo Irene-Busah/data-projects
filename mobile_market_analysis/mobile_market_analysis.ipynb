{
 "cells": [
  {
   "cell_type": "code",
   "execution_count": 18,
   "metadata": {},
   "outputs": [],
   "source": [
    "import pandas as pd\n",
    "import streamlit as st"
   ]
  },
  {
   "cell_type": "code",
   "execution_count": 19,
   "metadata": {},
   "outputs": [],
   "source": [
    "phone_data = pd.read_csv(\"phones_data.csv\", index_col=0)\n",
    "# phone_data.head()"
   ]
  },
  {
   "cell_type": "code",
   "execution_count": 20,
   "metadata": {},
   "outputs": [],
   "source": [
    "# cleaning the dataset\n",
    "phone_data.fillna({\"lowest_price\": phone_data['lowest_price'].mean()}, inplace=True)\n",
    "\n",
    "phone_data.fillna({\"highest_price\": phone_data[\"highest_price\"].mean()}, inplace=True)\n",
    "phone_data.dropna(subset=['os', 'memory_size', 'battery_size', 'screen_size'], inplace=True)"
   ]
  },
  {
   "cell_type": "code",
   "execution_count": 21,
   "metadata": {},
   "outputs": [
    {
     "name": "stderr",
     "output_type": "stream",
     "text": [
      "2024-07-20 23:41:28.626 \n",
      "  \u001b[33m\u001b[1mWarning:\u001b[0m to view this Streamlit app on a browser, run it with the following\n",
      "  command:\n",
      "\n",
      "    streamlit run c:\\Users\\HP\\anaconda3\\Lib\\site-packages\\ipykernel_launcher.py [ARGUMENTS]\n"
     ]
    }
   ],
   "source": [
    "# streamlit app setup\n",
    "st.title(\"Mobile Phone Price Comparison & Brand Performance Dashboard\")\n",
    "\n",
    "# sidebar filter\n",
    "st.sidebar.header('Filters')\n",
    "brand = st.sidebar.selectbox(\"Select Brand\", phone_data['brand_name'].unique())\n",
    "model = st.sidebar.selectbox(\"Select Model\", phone_data[phone_data['brand_name'] == brand]['model_name'].unique())"
   ]
  },
  {
   "cell_type": "code",
   "execution_count": 22,
   "metadata": {},
   "outputs": [
    {
     "data": {
      "text/plain": [
       "DeltaGenerator()"
      ]
     },
     "execution_count": 22,
     "metadata": {},
     "output_type": "execute_result"
    }
   ],
   "source": [
    "# filter day for select brand and model name\n",
    "filtered_data = phone_data[(phone_data['brand_name'] == brand) & (phone_data['model_name'] == model)]\n",
    "\n",
    "# display the price information\n",
    "st.subheader(f'Prices for {brand} {model}')\n",
    "st.write(filtered_data[['best_price', 'lowest_price', 'highest_price']])\n",
    "\n",
    "# plot price comparison\n",
    "st.subheader(\"Price Comparison\")\n",
    "st.bar_chart(filtered_data[[\"best_price\", \"lowest_price\", \"highest_price\"]].transpose())"
   ]
  },
  {
   "cell_type": "code",
   "execution_count": 23,
   "metadata": {},
   "outputs": [
    {
     "data": {
      "text/plain": [
       "DeltaGenerator()"
      ]
     },
     "execution_count": 23,
     "metadata": {},
     "output_type": "execute_result"
    }
   ],
   "source": [
    "# brand performance\n",
    "brand_summary = phone_data.groupby(\"brand_name\").agg({\"popularity\": \"mean\", \"best_price\":\"mean\", \"lowest_price\":\"mean\", \"highest_price\":\"mean\", \"sellers_amount\":\"mean\"}).reset_index()\n",
    "\n",
    "# Display brand performance summary\n",
    "st.subheader(\"Brand Performance Report\")\n",
    "st.write(brand_summary)\n",
    "\n",
    "# Plot brand performance\n",
    "st.subheader(\"Average Prices by Brand\")\n",
    "st.bar_chart(\n",
    "    brand_summary.set_index(\"brand_name\")[\n",
    "        [\"best_price\", \"lowest_price\", \"highest_price\"]\n",
    "    ]\n",
    ")\n",
    "\n",
    "st.subheader(\"Popularity by Brand\")\n",
    "st.bar_chart(brand_summary.set_index(\"brand_name\")[\"popularity\"])\n",
    "\n",
    "st.subheader(\"Market Presence by Brand (Number of Sellers)\")\n",
    "st.bar_chart(brand_summary.set_index(\"brand_name\")[\"sellers_amount\"])"
   ]
  }
 ],
 "metadata": {
  "kernelspec": {
   "display_name": "base",
   "language": "python",
   "name": "python3"
  },
  "language_info": {
   "codemirror_mode": {
    "name": "ipython",
    "version": 3
   },
   "file_extension": ".py",
   "mimetype": "text/x-python",
   "name": "python",
   "nbconvert_exporter": "python",
   "pygments_lexer": "ipython3",
   "version": "3.11.7"
  }
 },
 "nbformat": 4,
 "nbformat_minor": 2
}
